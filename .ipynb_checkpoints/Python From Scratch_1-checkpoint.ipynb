{
 "cells": [
  {
   "cell_type": "markdown",
   "metadata": {},
   "source": [
    "# Python From Scratch: Part 1"
   ]
  },
  {
   "cell_type": "code",
   "execution_count": 39,
   "metadata": {},
   "outputs": [],
   "source": [
    "# Python is widely accepted due to simplicity of the language compared with the likes of Java.\n",
    "# Python is a General Purpose Language\n",
    "# Python is a high level language\n",
    "# Python is the most in demand programming language in workplaces\n",
    "# Python is the most in demand programming language for Data Scientists"
   ]
  },
  {
   "cell_type": "code",
   "execution_count": null,
   "metadata": {},
   "outputs": [],
   "source": [
    "# Comments are pieces of text used to describe what is happening in the code (by using Hash Sign)\n",
    "# They have no effect on the code whatsoever."
   ]
  },
  {
   "cell_type": "markdown",
   "metadata": {},
   "source": [
    "# Your First Python Code"
   ]
  },
  {
   "cell_type": "code",
   "execution_count": 41,
   "metadata": {},
   "outputs": [
    {
     "name": "stdout",
     "output_type": "stream",
     "text": [
      "Hello World\n"
     ]
    }
   ],
   "source": [
    "print(\"Hello World\") #This is a print function."
   ]
  },
  {
   "cell_type": "code",
   "execution_count": 42,
   "metadata": {},
   "outputs": [
    {
     "name": "stdout",
     "output_type": "stream",
     "text": [
      "50 100 30 Hello Datalab\n"
     ]
    }
   ],
   "source": [
    "print(50,100,30,\"Hello Datalab\")"
   ]
  },
  {
   "cell_type": "code",
   "execution_count": 62,
   "metadata": {},
   "outputs": [
    {
     "name": "stdout",
     "output_type": "stream",
     "text": [
      "Hello World to the Starlights Team\n"
     ]
    }
   ],
   "source": [
    "# If we want multiple print statements to print in the same line, \n",
    "# we can use the following code\n",
    "print(\"Hello\",end=\" \")\n",
    "print(\"World\",end=\" \")\n",
    "print(\"to the Starlights Team\")"
   ]
  },
  {
   "cell_type": "code",
   "execution_count": 46,
   "metadata": {},
   "outputs": [
    {
     "name": "stdout",
     "output_type": "stream",
     "text": [
      "Olayemi Oyeleke\n"
     ]
    }
   ],
   "source": [
    "print(\"Olayemi\",end = \" \")\n",
    "print(\"Oyeleke\")"
   ]
  },
  {
   "cell_type": "code",
   "execution_count": 52,
   "metadata": {},
   "outputs": [],
   "source": [
    "#To use more than one line of text in your string \n",
    "#(called a multiline string), use three single quotes (''')\n",
    "modupe = '''How do adults pay their bills? \n",
    "With bank checks!'''"
   ]
  },
  {
   "cell_type": "code",
   "execution_count": 57,
   "metadata": {},
   "outputs": [
    {
     "name": "stdout",
     "output_type": "stream",
     "text": [
      "How do adults pay their bills? \n",
      "With bank checks!\n"
     ]
    }
   ],
   "source": [
    "print(modupe)"
   ]
  },
  {
   "cell_type": "code",
   "execution_count": 55,
   "metadata": {},
   "outputs": [],
   "source": [
    "sola = \"How do we go the class?\""
   ]
  },
  {
   "cell_type": "code",
   "execution_count": 56,
   "metadata": {},
   "outputs": [
    {
     "name": "stdout",
     "output_type": "stream",
     "text": [
      "How do we go the class?\n"
     ]
    }
   ],
   "source": [
    "print(sola)"
   ]
  },
  {
   "cell_type": "markdown",
   "metadata": {},
   "source": [
    "# Handling Problems with Strings"
   ]
  },
  {
   "cell_type": "code",
   "execution_count": 63,
   "metadata": {},
   "outputs": [
    {
     "ename": "SyntaxError",
     "evalue": "invalid syntax (<ipython-input-63-f95c391c5da0>, line 2)",
     "output_type": "error",
     "traceback": [
      "\u001b[1;36m  File \u001b[1;32m\"<ipython-input-63-f95c391c5da0>\"\u001b[1;36m, line \u001b[1;32m2\u001b[0m\n\u001b[1;33m    silly_string = 'He said, \"Aren't can't shouldn't wouldn't.\"'\u001b[0m\n\u001b[1;37m                                   ^\u001b[0m\n\u001b[1;31mSyntaxError\u001b[0m\u001b[1;31m:\u001b[0m invalid syntax\n"
     ]
    }
   ],
   "source": [
    "#Now consider this bad example of a string, which causes Python to display an error message:\n",
    "silly_string = 'He said, \"Aren't can't shouldn't wouldn't.\"'"
   ]
  },
  {
   "cell_type": "code",
   "execution_count": 64,
   "metadata": {},
   "outputs": [
    {
     "name": "stdout",
     "output_type": "stream",
     "text": [
      "He said, \"Aren't can't shouldn't wouldn't.\"\n",
      "He said, \"Aren't can't shouldn't wouldn't.\"\n"
     ]
    }
   ],
   "source": [
    "#Using backslash (\\) before each quotation mark\n",
    "silly_string1 = 'He said, \"Aren\\'t can\\'t shouldn\\'t wouldn\\'t.\"'  \n",
    "silly_string2 = \"He said, \\\"Aren't can't shouldn't wouldn't.\\\"\"\n",
    "print(silly_string1)\n",
    "print(silly_string2)"
   ]
  },
  {
   "cell_type": "markdown",
   "metadata": {},
   "source": [
    "# Embedding Values in Strings"
   ]
  },
  {
   "cell_type": "code",
   "execution_count": 67,
   "metadata": {},
   "outputs": [
    {
     "name": "stdout",
     "output_type": "stream",
     "text": [
      "I scored 2000 points\n"
     ]
    }
   ],
   "source": [
    "myscore = 2000\n",
    "message = 'I scored %s points' #where %s is a placeholder for the number of points.\n",
    "print(message % myscore)"
   ]
  },
  {
   "cell_type": "code",
   "execution_count": 69,
   "metadata": {},
   "outputs": [
    {
     "name": "stdout",
     "output_type": "stream",
     "text": [
      "What did the number 112 say to the number 13? Nice Score!!\n"
     ]
    }
   ],
   "source": [
    "#You can also use more than one placeholder in a string, like this:\n",
    "nums = 'What did the number %s say to the number %s? Nice Score!!'\n",
    "print(nums % (112,13))"
   ]
  },
  {
   "cell_type": "code",
   "execution_count": 70,
   "metadata": {},
   "outputs": [
    {
     "name": "stdout",
     "output_type": "stream",
     "text": [
      "TouchLight: a device for finding things in the dark\n",
      "Lamp: a device for finding things in the dark\n",
      "Floodlight: a device for finding things in the dark\n",
      "Bulb: a device for finding things in the dark\n"
     ]
    }
   ],
   "source": [
    "text = '%s: a device for finding things in the dark' #Reusable throughout your task\n",
    "devicepart1 = 'TouchLight'\n",
    "devicepart2 = 'Lamp'\n",
    "devicepart3 = 'Floodlight'\n",
    "devicepart4 = \"Bulb\"\n",
    "\n",
    "print(text % devicepart1)\n",
    "print(text % devicepart2)\n",
    "print(text % devicepart3)\n",
    "print(text % devicepart4)"
   ]
  },
  {
   "cell_type": "markdown",
   "metadata": {},
   "source": [
    "# Data Types and Variables in Python"
   ]
  },
  {
   "cell_type": "code",
   "execution_count": 71,
   "metadata": {},
   "outputs": [
    {
     "name": "stdout",
     "output_type": "stream",
     "text": [
      "10\n",
      "-3000\n"
     ]
    }
   ],
   "source": [
    "print(10)  # A positive integer\n",
    "print(-3000)  # A negative integer"
   ]
  },
  {
   "cell_type": "code",
   "execution_count": 72,
   "metadata": {},
   "outputs": [
    {
     "name": "stdout",
     "output_type": "stream",
     "text": [
      "123456789\n"
     ]
    }
   ],
   "source": [
    "num = 123456789  # Assigning an integer to a variable\n",
    "print(num)"
   ]
  },
  {
   "cell_type": "code",
   "execution_count": 73,
   "metadata": {},
   "outputs": [
    {
     "name": "stdout",
     "output_type": "stream",
     "text": [
      "-16000\n"
     ]
    }
   ],
   "source": [
    "num = -16000  # Assigning a new integer\n",
    "print(num)"
   ]
  },
  {
   "cell_type": "code",
   "execution_count": 74,
   "metadata": {},
   "outputs": [
    {
     "name": "stdout",
     "output_type": "stream",
     "text": [
      "1.00000000005\n"
     ]
    }
   ],
   "source": [
    "print(1.00000000005)  # A positive float"
   ]
  },
  {
   "cell_type": "code",
   "execution_count": 75,
   "metadata": {},
   "outputs": [
    {
     "name": "stdout",
     "output_type": "stream",
     "text": [
      "-85.6701\n"
     ]
    }
   ],
   "source": [
    "print(-85.6701)  # A negative float"
   ]
  },
  {
   "cell_type": "code",
   "execution_count": 76,
   "metadata": {},
   "outputs": [
    {
     "name": "stdout",
     "output_type": "stream",
     "text": [
      "1.23456789\n"
     ]
    }
   ],
   "source": [
    "flt_pt = 1.23456789\n",
    "print(flt_pt)"
   ]
  },
  {
   "cell_type": "code",
   "execution_count": 77,
   "metadata": {},
   "outputs": [
    {
     "name": "stdout",
     "output_type": "stream",
     "text": [
      "True\n",
      "False\n"
     ]
    }
   ],
   "source": [
    "print(True) # Bolean\n",
    "print(False) #Bolean"
   ]
  },
  {
   "cell_type": "code",
   "execution_count": 78,
   "metadata": {},
   "outputs": [
    {
     "name": "stdout",
     "output_type": "stream",
     "text": [
      "Narrow Road\n"
     ]
    }
   ],
   "source": [
    "game = \"Narrow Road\"\n",
    "print(game)"
   ]
  },
  {
   "cell_type": "code",
   "execution_count": 79,
   "metadata": {},
   "outputs": [
    {
     "name": "stdout",
     "output_type": "stream",
     "text": [
      " \n"
     ]
    }
   ],
   "source": [
    "play = \" \"\n",
    "print(play) #it will just print an empty line"
   ]
  },
  {
   "cell_type": "code",
   "execution_count": 80,
   "metadata": {},
   "outputs": [
    {
     "name": "stdout",
     "output_type": "stream",
     "text": [
      "11\n"
     ]
    }
   ],
   "source": [
    "#Print the length of String\n",
    "game = \"Narrow Road\"\n",
    "print(len(game)) #space was also counted in the process"
   ]
  },
  {
   "cell_type": "markdown",
   "metadata": {},
   "source": [
    "# Sub-Setting Strings with Index"
   ]
  },
  {
   "cell_type": "code",
   "execution_count": 81,
   "metadata": {},
   "outputs": [
    {
     "name": "stdout",
     "output_type": "stream",
     "text": [
      "y\n"
     ]
    }
   ],
   "source": [
    "instructor = \"olayemi oyeleke\"\n",
    "first = instructor[9] #Accessing the first character in the string\n",
    "print(first)"
   ]
  },
  {
   "cell_type": "code",
   "execution_count": 82,
   "metadata": {},
   "outputs": [
    {
     "name": "stdout",
     "output_type": "stream",
     "text": [
      " \n"
     ]
    }
   ],
   "source": [
    "space = instructor[7] # Accessing the space in the name/string\n",
    "print(space)"
   ]
  },
  {
   "cell_type": "code",
   "execution_count": 87,
   "metadata": {},
   "outputs": [
    {
     "name": "stdout",
     "output_type": "stream",
     "text": [
      "n\n"
     ]
    }
   ],
   "source": [
    "#Reverse/Negative Indexing\n",
    "saviour = \"Christ Jesus the King\"\n",
    "print(saviour[-2]) #start print from the last character"
   ]
  },
  {
   "cell_type": "code",
   "execution_count": 88,
   "metadata": {},
   "outputs": [
    {
     "name": "stdout",
     "output_type": "stream",
     "text": [
      "s\n"
     ]
    }
   ],
   "source": [
    "print(saviour[11])"
   ]
  },
  {
   "cell_type": "markdown",
   "metadata": {},
   "source": [
    "# String Slicing"
   ]
  },
  {
   "cell_type": "code",
   "execution_count": 91,
   "metadata": {},
   "outputs": [
    {
     "name": "stdout",
     "output_type": "stream",
     "text": [
      "python\n"
     ]
    }
   ],
   "source": [
    "my_string = \"pythonclass\"\n",
    "print(my_string[0:6]) #From the start till \"before\" the 4th index"
   ]
  },
  {
   "cell_type": "code",
   "execution_count": 92,
   "metadata": {},
   "outputs": [
    {
     "name": "stdout",
     "output_type": "stream",
     "text": [
      "ythonc\n"
     ]
    }
   ],
   "source": [
    "print(my_string[1:7])"
   ]
  },
  {
   "cell_type": "code",
   "execution_count": 93,
   "metadata": {},
   "outputs": [
    {
     "name": "stdout",
     "output_type": "stream",
     "text": [
      "lass\n"
     ]
    }
   ],
   "source": [
    "print(my_string[7:len(my_string)])  #From the 7th index till the end"
   ]
  },
  {
   "cell_type": "code",
   "execution_count": 94,
   "metadata": {},
   "outputs": [
    {
     "name": "stdout",
     "output_type": "stream",
     "text": [
      "This is\n"
     ]
    }
   ],
   "source": [
    "# Slicing with a Step\n",
    "my_string = \"This is my string!\"\n",
    "print(my_string[0:7])  # A step of 1"
   ]
  },
  {
   "cell_type": "code",
   "execution_count": 102,
   "metadata": {},
   "outputs": [
    {
     "name": "stdout",
     "output_type": "stream",
     "text": [
      "Tss\n"
     ]
    }
   ],
   "source": [
    "print(my_string[0:7:3])  # A step of 2"
   ]
  },
  {
   "cell_type": "code",
   "execution_count": 96,
   "metadata": {},
   "outputs": [
    {
     "name": "stdout",
     "output_type": "stream",
     "text": [
      "This is \n"
     ]
    }
   ],
   "source": [
    "# Partial Slicing\n",
    "my_string = \"This is my string!\"\n",
    "print(my_string[:8])  # All the characters before 'M'"
   ]
  },
  {
   "cell_type": "code",
   "execution_count": 97,
   "metadata": {},
   "outputs": [
    {
     "name": "stdout",
     "output_type": "stream",
     "text": [
      "my string!\n"
     ]
    }
   ],
   "source": [
    "print(my_string[8:])  # All the characters starting from 'M'"
   ]
  },
  {
   "cell_type": "code",
   "execution_count": 98,
   "metadata": {},
   "outputs": [
    {
     "name": "stdout",
     "output_type": "stream",
     "text": [
      "This is my string!\n"
     ]
    }
   ],
   "source": [
    "print(my_string[:])  # The whole string"
   ]
  },
  {
   "cell_type": "code",
   "execution_count": 101,
   "metadata": {},
   "outputs": [
    {
     "name": "stdout",
     "output_type": "stream",
     "text": [
      "!gnirts ym si sihT\n"
     ]
    }
   ],
   "source": [
    "print(my_string[::-1])  # The whole string in reverse (step is -1)"
   ]
  },
  {
   "cell_type": "code",
   "execution_count": null,
   "metadata": {},
   "outputs": [],
   "source": []
  },
  {
   "cell_type": "markdown",
   "metadata": {},
   "source": [
    "# Introduction to Python Operators"
   ]
  },
  {
   "cell_type": "code",
   "execution_count": null,
   "metadata": {},
   "outputs": [],
   "source": [
    "# Operators are used to perform arithmetic and logical operations on data.\n",
    "\n",
    "# The 4 main operator types in Python are:\n",
    "\n",
    "# 1. arithmetic operators\n",
    "\n",
    "# 2. comparison operators\n",
    "\n",
    "# 3. assignment operators\n",
    "\n",
    "# 4. logical operators"
   ]
  },
  {
   "cell_type": "markdown",
   "metadata": {},
   "source": [
    "# arithmetic operators"
   ]
  },
  {
   "cell_type": "code",
   "execution_count": 103,
   "metadata": {},
   "outputs": [
    {
     "name": "stdout",
     "output_type": "stream",
     "text": [
      "15\n"
     ]
    }
   ],
   "source": [
    "# Addition\n",
    "print(5+10)"
   ]
  },
  {
   "cell_type": "code",
   "execution_count": 104,
   "metadata": {},
   "outputs": [
    {
     "name": "stdout",
     "output_type": "stream",
     "text": [
      "15.399999999999999\n"
     ]
    }
   ],
   "source": [
    "a = 13.2\n",
    "b = 2.2\n",
    "print(a+b)"
   ]
  },
  {
   "cell_type": "code",
   "execution_count": 105,
   "metadata": {},
   "outputs": [
    {
     "name": "stdout",
     "output_type": "stream",
     "text": [
      "7\n"
     ]
    }
   ],
   "source": [
    "#Subtraction\n",
    "print(10-3)"
   ]
  },
  {
   "cell_type": "code",
   "execution_count": 106,
   "metadata": {},
   "outputs": [
    {
     "name": "stdout",
     "output_type": "stream",
     "text": [
      "2.5\n"
     ]
    }
   ],
   "source": [
    "c = 7.5\n",
    "d = 5\n",
    "print(c-d)"
   ]
  },
  {
   "cell_type": "code",
   "execution_count": 107,
   "metadata": {},
   "outputs": [
    {
     "name": "stdout",
     "output_type": "stream",
     "text": [
      "600\n"
     ]
    }
   ],
   "source": [
    "## Multiplication\n",
    "print(60*10)"
   ]
  },
  {
   "cell_type": "code",
   "execution_count": 108,
   "metadata": {},
   "outputs": [
    {
     "name": "stdout",
     "output_type": "stream",
     "text": [
      "25.0\n"
     ]
    }
   ],
   "source": [
    "e = 2.5\n",
    "f = 10\n",
    "print(e*f)"
   ]
  },
  {
   "cell_type": "code",
   "execution_count": 109,
   "metadata": {},
   "outputs": [
    {
     "name": "stdout",
     "output_type": "stream",
     "text": [
      "5.0\n"
     ]
    }
   ],
   "source": [
    "#Division\n",
    "print(50/10)"
   ]
  },
  {
   "cell_type": "code",
   "execution_count": 110,
   "metadata": {},
   "outputs": [
    {
     "name": "stdout",
     "output_type": "stream",
     "text": [
      "8.0\n"
     ]
    }
   ],
   "source": [
    "g = 48\n",
    "h = 6\n",
    "print(g/h)"
   ]
  },
  {
   "cell_type": "code",
   "execution_count": 111,
   "metadata": {},
   "outputs": [
    {
     "name": "stdout",
     "output_type": "stream",
     "text": [
      "6\n"
     ]
    }
   ],
   "source": [
    "#Floor Division (Division to the nearest smaller integer)\n",
    "print(25//4)"
   ]
  },
  {
   "cell_type": "code",
   "execution_count": 114,
   "metadata": {},
   "outputs": [
    {
     "name": "stdout",
     "output_type": "stream",
     "text": [
      "1\n"
     ]
    }
   ],
   "source": [
    "i = 3\n",
    "j = 2\n",
    "print(i//j)"
   ]
  },
  {
   "cell_type": "markdown",
   "metadata": {},
   "source": [
    "# Introducing Modulo"
   ]
  },
  {
   "cell_type": "code",
   "execution_count": 115,
   "metadata": {},
   "outputs": [
    {
     "name": "stdout",
     "output_type": "stream",
     "text": [
      "5.0\n"
     ]
    }
   ],
   "source": [
    "print(10/2)"
   ]
  },
  {
   "cell_type": "code",
   "execution_count": 116,
   "metadata": {},
   "outputs": [
    {
     "name": "stdout",
     "output_type": "stream",
     "text": [
      "8\n"
     ]
    }
   ],
   "source": [
    "twenty_eight = 28\n",
    "print(twenty_eight%10) #reminder is 8"
   ]
  },
  {
   "cell_type": "code",
   "execution_count": 117,
   "metadata": {},
   "outputs": [
    {
     "name": "stdout",
     "output_type": "stream",
     "text": [
      "2\n"
     ]
    }
   ],
   "source": [
    "print(-28 % 10) #The reminder is positive if the right-hand operand is positive"
   ]
  },
  {
   "cell_type": "code",
   "execution_count": 118,
   "metadata": {},
   "outputs": [
    {
     "name": "stdout",
     "output_type": "stream",
     "text": [
      "-2\n"
     ]
    }
   ],
   "source": [
    "print(28 % -10) #The reminder is negative if the right-hand operand is negative"
   ]
  },
  {
   "cell_type": "code",
   "execution_count": 119,
   "metadata": {},
   "outputs": [
    {
     "name": "stdout",
     "output_type": "stream",
     "text": [
      "1.8999999999999986\n"
     ]
    }
   ],
   "source": [
    "print(34.4 % 2.5) #The reminder can be float"
   ]
  },
  {
   "cell_type": "markdown",
   "metadata": {},
   "source": [
    "# Operator Precedence"
   ]
  },
  {
   "cell_type": "code",
   "execution_count": 120,
   "metadata": {},
   "outputs": [
    {
     "name": "stdout",
     "output_type": "stream",
     "text": [
      "4\n"
     ]
    }
   ],
   "source": [
    "# Operator Precedence (will be computed on the basis of operator precedence rule)\n",
    "print(10 - 3 * 2)  #Multiplication computed first, followed by subtraction"
   ]
  },
  {
   "cell_type": "code",
   "execution_count": 121,
   "metadata": {},
   "outputs": [
    {
     "name": "stdout",
     "output_type": "stream",
     "text": [
      "12.0\n",
      "0.75\n"
     ]
    }
   ],
   "source": [
    "# Same precedence\n",
    "print(3 * 20 / 5)  # Multiplication computed first, followed by division\n",
    "print(3 / 20 * 5)  # Division computed first, followed by multiplication"
   ]
  },
  {
   "cell_type": "code",
   "execution_count": 122,
   "metadata": {},
   "outputs": [
    {
     "name": "stdout",
     "output_type": "stream",
     "text": [
      "14\n",
      "10.0\n"
     ]
    }
   ],
   "source": [
    "# Parentheses\n",
    "# An expression which is enclosed inside parentheses \n",
    "# will be computed first, regardless of operator precedence:\n",
    "\n",
    "print((10-3)*2) #Substraction occurs first\n",
    "print((18+2)/(10 % 8))"
   ]
  },
  {
   "cell_type": "markdown",
   "metadata": {},
   "source": [
    "# Comparison Operators"
   ]
  },
  {
   "cell_type": "code",
   "execution_count": 123,
   "metadata": {},
   "outputs": [
    {
     "name": "stdout",
     "output_type": "stream",
     "text": [
      "True\n"
     ]
    }
   ],
   "source": [
    "# The result of a comparison is always a bool.\n",
    "num1 = 5\n",
    "num2 = 10\n",
    "num3 = 10\n",
    "\n",
    "print(num2 > num1)  # 10 is greater than 5"
   ]
  },
  {
   "cell_type": "code",
   "execution_count": 124,
   "metadata": {},
   "outputs": [
    {
     "name": "stdout",
     "output_type": "stream",
     "text": [
      "False\n"
     ]
    }
   ],
   "source": [
    "print(num1 > num2)  # 5 is not greater than 10"
   ]
  },
  {
   "cell_type": "code",
   "execution_count": 125,
   "metadata": {},
   "outputs": [
    {
     "name": "stdout",
     "output_type": "stream",
     "text": [
      "True\n"
     ]
    }
   ],
   "source": [
    "print(num2 is num3)  # Both have the same value"
   ]
  },
  {
   "cell_type": "code",
   "execution_count": 126,
   "metadata": {},
   "outputs": [
    {
     "name": "stdout",
     "output_type": "stream",
     "text": [
      "True\n"
     ]
    }
   ],
   "source": [
    "print(num3 is not num1)  # Both have different values"
   ]
  },
  {
   "cell_type": "code",
   "execution_count": 127,
   "metadata": {},
   "outputs": [
    {
     "name": "stdout",
     "output_type": "stream",
     "text": [
      "False\n"
     ]
    }
   ],
   "source": [
    "print(3 + 10 == 5 + 5)  # Both are not equal"
   ]
  },
  {
   "cell_type": "code",
   "execution_count": 128,
   "metadata": {},
   "outputs": [
    {
     "name": "stdout",
     "output_type": "stream",
     "text": [
      "False\n"
     ]
    }
   ],
   "source": [
    "print(3 <= 2)  # 3 is not less than or equal to 2"
   ]
  },
  {
   "cell_type": "markdown",
   "metadata": {},
   "source": [
    "# Assignment Operators"
   ]
  },
  {
   "cell_type": "code",
   "execution_count": 130,
   "metadata": {},
   "outputs": [
    {
     "name": "stdout",
     "output_type": "stream",
     "text": [
      "2021\n"
     ]
    }
   ],
   "source": [
    "year =teenexzt@gmail.comteenexzt@gmail.com 2021\n",
    "print(year)"
   ]
  },
  {
   "cell_type": "code",
   "execution_count": 131,
   "metadata": {},
   "outputs": [
    {
     "name": "stdout",
     "output_type": "stream",
     "text": [
      "2022\n"
     ]
    }
   ],
   "source": [
    "new_year = year + 1 #Use the existing value to create a new one\n",
    "print(new_year)"
   ]
  },
  {
   "cell_type": "code",
   "execution_count": 132,
   "metadata": {},
   "outputs": [
    {
     "name": "stdout",
     "output_type": "stream",
     "text": [
      "20\n"
     ]
    }
   ],
   "source": [
    "### Copying ####\n",
    "first = 20\n",
    "second = first #copy first into second\n",
    "print(second)"
   ]
  },
  {
   "cell_type": "code",
   "execution_count": 133,
   "metadata": {},
   "outputs": [
    {
     "name": "stdout",
     "output_type": "stream",
     "text": [
      "45 20\n"
     ]
    }
   ],
   "source": [
    "first = 45 # updating first will not affect second which we have already copied\n",
    "print(first,second) #second remains unchanged."
   ]
  },
  {
   "cell_type": "code",
   "execution_count": null,
   "metadata": {},
   "outputs": [],
   "source": [
    "#num = 10\n",
    "#print(num)\n",
    "\n",
    "#num +=5\n",
    "#print(num)\n",
    "\n",
    "#num -=5\n",
    "#print(num)\n",
    "\n",
    "#num *=2\n",
    "#print(num)\n",
    "\n",
    "#num /=2\n",
    "#print(num)\n",
    "\n",
    "#num **= 2\n",
    "#print(num)"
   ]
  },
  {
   "cell_type": "markdown",
   "metadata": {},
   "source": [
    "# Logical Operators"
   ]
  },
  {
   "cell_type": "code",
   "execution_count": 134,
   "metadata": {},
   "outputs": [
    {
     "name": "stdout",
     "output_type": "stream",
     "text": [
      "True\n"
     ]
    }
   ],
   "source": [
    "# Logical expressions are formed using Booleans.\n",
    "\n",
    "my_bool = True or False\n",
    "print(my_bool) #OR Expression"
   ]
  },
  {
   "cell_type": "code",
   "execution_count": 135,
   "metadata": {},
   "outputs": [
    {
     "name": "stdout",
     "output_type": "stream",
     "text": [
      "False\n"
     ]
    }
   ],
   "source": [
    "my_bool = True and False\n",
    "print(my_bool) #AND Expression"
   ]
  },
  {
   "cell_type": "code",
   "execution_count": 136,
   "metadata": {},
   "outputs": [
    {
     "name": "stdout",
     "output_type": "stream",
     "text": [
      "True\n"
     ]
    }
   ],
   "source": [
    "my_bool = False\n",
    "print(not my_bool) #NOT Expression"
   ]
  },
  {
   "cell_type": "markdown",
   "metadata": {},
   "source": [
    "## Comparison Operators"
   ]
  },
  {
   "cell_type": "code",
   "execution_count": 137,
   "metadata": {},
   "outputs": [
    {
     "name": "stdout",
     "output_type": "stream",
     "text": [
      "True\n"
     ]
    }
   ],
   "source": [
    "print('a'<'b')"
   ]
  },
  {
   "cell_type": "code",
   "execution_count": 138,
   "metadata": {},
   "outputs": [
    {
     "name": "stdout",
     "output_type": "stream",
     "text": [
      "True\n"
     ]
    }
   ],
   "source": [
    "office = \"datalab\"\n",
    "office_copy = \"datalab\"\n",
    "print(office == office_copy)"
   ]
  },
  {
   "cell_type": "markdown",
   "metadata": {},
   "source": [
    "# String Concatenation (Joining)"
   ]
  },
  {
   "cell_type": "code",
   "execution_count": 139,
   "metadata": {},
   "outputs": [
    {
     "name": "stdout",
     "output_type": "stream",
     "text": [
      "BatMan\n"
     ]
    }
   ],
   "source": [
    "first_half = \"Bat\"\n",
    "second_half = \"Man\"\n",
    "full_name = first_half + second_half\n",
    "print(full_name)"
   ]
  },
  {
   "cell_type": "code",
   "execution_count": 140,
   "metadata": {},
   "outputs": [
    {
     "name": "stdout",
     "output_type": "stream",
     "text": [
      "BridgetSalawu\n"
     ]
    }
   ],
   "source": [
    "first_name = \"Bridget\"\n",
    "surname = \"Salawu\"\n",
    "full_name = first_name + surname\n",
    "print(full_name)"
   ]
  },
  {
   "cell_type": "code",
   "execution_count": 141,
   "metadata": {},
   "outputs": [
    {
     "name": "stdout",
     "output_type": "stream",
     "text": [
      "bridgetbridgetbridget\n"
     ]
    }
   ],
   "source": [
    "print(\"bridget\"* 3) #The * operator allows us to multiply a string, resulting in a repeating pattern."
   ]
  },
  {
   "cell_type": "code",
   "execution_count": 142,
   "metadata": {},
   "outputs": [
    {
     "name": "stdout",
     "output_type": "stream",
     "text": [
      "Onna Aliu, Roseyln, Sola, Toyin, Chinenye, Modupe\n"
     ]
    }
   ],
   "source": [
    "datalab_interns =\"Onna Aliu, Roseyln, Sola, Toyin, Chinenye, Modupe\"\n",
    "print(datalab_interns)"
   ]
  },
  {
   "cell_type": "code",
   "execution_count": 143,
   "metadata": {},
   "outputs": [
    {
     "name": "stdout",
     "output_type": "stream",
     "text": [
      "True\n"
     ]
    }
   ],
   "source": [
    "print('Chinenye' in datalab_interns)"
   ]
  },
  {
   "cell_type": "code",
   "execution_count": 144,
   "metadata": {},
   "outputs": [
    {
     "name": "stdout",
     "output_type": "stream",
     "text": [
      "False\n"
     ]
    }
   ],
   "source": [
    "print('Bayo' in datalab_interns)"
   ]
  },
  {
   "cell_type": "code",
   "execution_count": null,
   "metadata": {},
   "outputs": [],
   "source": []
  },
  {
   "cell_type": "markdown",
   "metadata": {},
   "source": [
    "# Python List "
   ]
  },
  {
   "cell_type": "code",
   "execution_count": null,
   "metadata": {},
   "outputs": [],
   "source": [
    "#A python list could key-value pairs, multiple variable types (numeric,alphanumeric)"
   ]
  },
  {
   "cell_type": "code",
   "execution_count": 145,
   "metadata": {},
   "outputs": [
    {
     "name": "stdout",
     "output_type": "stream",
     "text": [
      "[1, 3, 'intern', 34, 'S234']\n"
     ]
    }
   ],
   "source": [
    "#Example of Python Numeric\n",
    "my = [1,3,\"intern\",34,\"S234\"]\n",
    "print(my)"
   ]
  },
  {
   "cell_type": "code",
   "execution_count": 146,
   "metadata": {},
   "outputs": [
    {
     "name": "stdout",
     "output_type": "stream",
     "text": [
      "['bridget', 1, 'Lee', 2, 'Chinenye', 3, 'Toyin', 4, 'Mercy', 5, 'Modupe', 6]\n"
     ]
    }
   ],
   "source": [
    "datalab_interns =[\"bridget\", 1, \"Lee\", 2, \"Chinenye\", 3, \"Toyin\", 4, \"Mercy\",5, \"Modupe\",6]\n",
    "print(datalab_interns)"
   ]
  },
  {
   "cell_type": "code",
   "execution_count": 150,
   "metadata": {},
   "outputs": [
    {
     "name": "stdout",
     "output_type": "stream",
     "text": [
      "['Modupe', 6]\n"
     ]
    }
   ],
   "source": [
    "print(datalab_interns[10:12]) #Lists can be indexed and sliced just like strings"
   ]
  },
  {
   "cell_type": "code",
   "execution_count": null,
   "metadata": {},
   "outputs": [],
   "source": [
    "print(len(datalab_interns))"
   ]
  },
  {
   "cell_type": "code",
   "execution_count": 151,
   "metadata": {},
   "outputs": [
    {
     "name": "stdout",
     "output_type": "stream",
     "text": [
      "\n",
      "Multi-Dimensional List: \n",
      "[['omolade', 'For'], ['President', '2022']]\n"
     ]
    }
   ],
   "source": [
    "# Creating a Multi-Dimensional List (By Nesting a list inside a List) \n",
    "List = [['omolade', 'For'] , ['President','2022']] \n",
    "print(\"\\nMulti-Dimensional List: \") \n",
    "print(List)"
   ]
  },
  {
   "cell_type": "code",
   "execution_count": 152,
   "metadata": {},
   "outputs": [
    {
     "name": "stdout",
     "output_type": "stream",
     "text": [
      "\n",
      "List with the use of Mixed Values: \n",
      "[1, 2, '', 4, 'Mercy', 6, 'Nangi']\n"
     ]
    }
   ],
   "source": [
    "# Creating a List with mixed type of values (Having numbers and strings) \n",
    "List = [1, 2, '', 4, 'Mercy', 6, 'Nangi'] \n",
    "print(\"\\nList with the use of Mixed Values: \") \n",
    "print(List)"
   ]
  },
  {
   "cell_type": "markdown",
   "metadata": {},
   "source": [
    "# Python program to demonstrate Addition of elements into a List "
   ]
  },
  {
   "cell_type": "code",
   "execution_count": null,
   "metadata": {},
   "outputs": [],
   "source": [
    "# Creating a List \n",
    "List = [] \n",
    "print(\"Initial blank List: \") \n",
    "print(List) "
   ]
  },
  {
   "cell_type": "code",
   "execution_count": null,
   "metadata": {},
   "outputs": [],
   "source": [
    "# Addition of Elements in the List \n",
    "List.append(1) \n",
    "List.append(2) \n",
    "List.append(4) \n",
    "print(\"\\nList after Addition of Three elements: \") \n",
    "print(List) "
   ]
  },
  {
   "cell_type": "code",
   "execution_count": null,
   "metadata": {},
   "outputs": [],
   "source": [
    "# Adding elements to the List using Iterator (Python Iterator)\n",
    "for i in range(1, 4):\n",
    "    List.append(i) \n",
    "print(\"\\nList after Addition of elements from 1-3: \") \n",
    "print(List) "
   ]
  },
  {
   "cell_type": "code",
   "execution_count": null,
   "metadata": {},
   "outputs": [],
   "source": [
    "# Adding Tuples to the List \n",
    "List.append((5, 6)) \n",
    "print(\"\\nList after Addition of a Tuple: \")\n",
    "List2 = ['Aderonke', 'Fatimat'] \n",
    "List.append(List2) \n",
    "print(\"\\nList after Addition of a List: \") \n",
    "print(List) "
   ]
  },
  {
   "cell_type": "code",
   "execution_count": null,
   "metadata": {},
   "outputs": [],
   "source": [
    "# Creating a Multi-Dimensional List (By Nesting a list inside a List) \n",
    "List = [['Team', 'Ploty'] , ['For','Real' ]]\n",
    "print(List) "
   ]
  },
  {
   "cell_type": "markdown",
   "metadata": {},
   "source": [
    "# Accessing an element from the multi-Dimensional List using index number "
   ]
  },
  {
   "cell_type": "code",
   "execution_count": null,
   "metadata": {},
   "outputs": [],
   "source": [
    "print(\"Acessing a element from a Multi-Dimensional list\") \n",
    "print(List[0][1]) \n",
    "print(List[1][0])"
   ]
  },
  {
   "cell_type": "markdown",
   "metadata": {},
   "source": [
    "# Python program to demonstrate Removal of elements in a List "
   ]
  },
  {
   "cell_type": "code",
   "execution_count": null,
   "metadata": {},
   "outputs": [],
   "source": [
    "# Creating a List \n",
    "List = [1, 2, 3, 4, 5, 6, 7, 8, 9, 10, 11, 12] \n",
    "print(\"Intial List: \") \n",
    "print(List) "
   ]
  },
  {
   "cell_type": "code",
   "execution_count": null,
   "metadata": {},
   "outputs": [],
   "source": [
    "# Removing elements from List using Remove() method \n",
    "List.remove(5)"
   ]
  },
  {
   "cell_type": "code",
   "execution_count": null,
   "metadata": {},
   "outputs": [],
   "source": [
    "List.remove(6) "
   ]
  },
  {
   "cell_type": "code",
   "execution_count": null,
   "metadata": {},
   "outputs": [],
   "source": [
    "print(\"\\nList after Removal of two elements: \") \n",
    "print(List) "
   ]
  },
  {
   "cell_type": "code",
   "execution_count": null,
   "metadata": {},
   "outputs": [],
   "source": [
    "##### Removing elements from List using iterator method ###### \n",
    "for i in range(1, 5): \n",
    "\tList.remove(i) \n",
    "print(\"\\nList after Removing a range of elements: \") \n",
    "print(List) "
   ]
  },
  {
   "cell_type": "code",
   "execution_count": null,
   "metadata": {},
   "outputs": [],
   "source": [
    "List = [1,2,3,4,5] \n",
    "\n",
    "#### Removing element from the Set using the pop() method #######\n",
    "List.pop() \n",
    "print(\"\\nList after popping an element: \") \n",
    "print(List) "
   ]
  },
  {
   "cell_type": "code",
   "execution_count": null,
   "metadata": {},
   "outputs": [],
   "source": [
    "# Removing element at a specific location from the Set using the pop() method \n",
    "List.pop(2) \n",
    "print(\"\\nList after popping a specific element: \") \n",
    "print(List) "
   ]
  },
  {
   "cell_type": "markdown",
   "metadata": {},
   "source": [
    "# WRITING YOUR OWN PROGRAM ##"
   ]
  },
  {
   "cell_type": "code",
   "execution_count": null,
   "metadata": {},
   "outputs": [],
   "source": [
    "total = 0\n",
    "\n",
    "# creating a list\n",
    "list1 = [1,2,3,4,5,6,7]\n",
    "\n",
    "# Iterate each element in the list\n",
    "# and add them in variable total\n",
    "for element in range(0, len(list1)):\n",
    "    total = total + list1[element]\n",
    "\n",
    "# printing total value\n",
    "print(\"Sum of all elements in the list: \", total)"
   ]
  },
  {
   "cell_type": "markdown",
   "metadata": {},
   "source": [
    "# Python program to find largest element in list"
   ]
  },
  {
   "cell_type": "code",
   "execution_count": null,
   "metadata": {},
   "outputs": [],
   "source": [
    "# Python program to find largest number in a list\n",
    "\n",
    "# A list of numbers is given\n",
    "lis = [1, 10, 40, 36, 16]\n",
    "\n",
    "# sorting the given list \"lis\"\n",
    "# sort() function sorts the list in ascending order\n",
    "lis.sort()\n",
    "\n",
    "# Displaying the last element of the list\n",
    "# which is the largest number in the sorted list\n",
    "print(\"Largest number in the list is:\", lis[-1])"
   ]
  },
  {
   "cell_type": "code",
   "execution_count": null,
   "metadata": {},
   "outputs": [],
   "source": [
    "# Python program to find largest number in a list\n",
    "# using max() function\n",
    "\n",
    "# A list of numbers\n",
    "lis = [19, 10, 45, 26, 6]\n",
    "\n",
    "# max() method returns the largest element of the list\n",
    "print(\"Largest number of the list is:\", max(lis))"
   ]
  },
  {
   "cell_type": "markdown",
   "metadata": {},
   "source": [
    "# Finding largest number in a list, where list is provided by user"
   ]
  },
  {
   "cell_type": "code",
   "execution_count": null,
   "metadata": {},
   "outputs": [],
   "source": [
    "# creating empty list\n",
    "lis = []\n",
    "\n",
    "# user enters the number of elements to put in list\n",
    "count = int(input('How many numbers? '))\n",
    "\n",
    "# iterating till count to append all input elements in list\n",
    "for n in range(count):\n",
    "    number = int(input('Enter number: '))\n",
    "    lis.append(number)\n",
    "\n",
    "# displaying largest element\n",
    "print(\"Largest element of the list is :\", max(lis))"
   ]
  },
  {
   "cell_type": "markdown",
   "metadata": {},
   "source": [
    "# Supermarket grocery list in python"
   ]
  },
  {
   "cell_type": "code",
   "execution_count": null,
   "metadata": {},
   "outputs": [],
   "source": [
    "print(\"WELCOME TO RAMAT SUPERMARKET\")\n",
    "grocery_item = {} \n",
    "grocery_history = [] \n",
    "\n",
    "stop = False \n",
    "\n",
    "while not stop:\n",
    "    item_name = input(\"Item name:\\n\")   \n",
    "    quantity = input(\"Quantity purchased:\\n\")   \n",
    "    cost = input(\"Price per item:\\n\")\n",
    "    grocery_item = {'name':item_name, 'number': int(quantity), \n",
    "                    'price': float(cost)}\n",
    "    grocery_history.append(grocery_item)\n",
    "    user_input = input(\"Would you like to enter another item?\\nType 'c' for continue or 'q' to quit:\\n\")\n",
    "    if user_input == 'q':\n",
    "      stop = True\n",
    "    \n",
    "grand_total = 0  \n",
    "\n",
    "for index, item in enumerate(grocery_history):\n",
    "    item_total = item['number'] * item['price']\n",
    "    grand_total = grand_total + item_total\n",
    "    print('%d %s @ N%.2f Sub_Total N%.2f' % (item['number'], item['name'], item['price'], item_total)) \n",
    "    item_total = 0\n",
    "    \n",
    "# %d %s are used for formatting strings. %s acts a placeholder for a string while %d acts as a placeholder for a number    \n",
    "\n",
    "print('Grand total: N%.2f' % grand_total)"
   ]
  },
  {
   "cell_type": "markdown",
   "metadata": {},
   "source": [
    "# python program to give shop name"
   ]
  },
  {
   "cell_type": "code",
   "execution_count": null,
   "metadata": {},
   "outputs": [],
   "source": [
    "print(\"Welcome to the shop Name Generator.\")\n",
    "street = input(\"What's name of the city you grew up in?\\n\")\n",
    "pet = input(\"What's your pet's name?\\n\")\n",
    "print(\"Your shop name could be \" + street + \" \" + pet)"
   ]
  },
  {
   "cell_type": "code",
   "execution_count": null,
   "metadata": {},
   "outputs": [],
   "source": []
  }
 ],
 "metadata": {
  "kernelspec": {
   "display_name": "Python 3",
   "language": "python",
   "name": "python3"
  },
  "language_info": {
   "codemirror_mode": {
    "name": "ipython",
    "version": 3
   },
   "file_extension": ".py",
   "mimetype": "text/x-python",
   "name": "python",
   "nbconvert_exporter": "python",
   "pygments_lexer": "ipython3",
   "version": "3.8.5"
  }
 },
 "nbformat": 4,
 "nbformat_minor": 4
}
